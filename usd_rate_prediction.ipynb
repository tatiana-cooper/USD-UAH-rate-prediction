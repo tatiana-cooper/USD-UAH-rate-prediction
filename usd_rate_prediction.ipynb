{
 "cells": [
  {
   "cell_type": "code",
   "execution_count": 1,
   "metadata": {},
   "outputs": [],
   "source": [
    "import pandas\n",
    "from sklearn.linear_model import LinearRegression\n",
    "from sklearn.ensemble import RandomForestRegressor\n",
    "from sklearn.metrics import mean_absolute_error\n",
    "import matplotlib.pyplot as plt\n",
    "from sklearn.neighbors import KNeighborsRegressor\n",
    "from sklearn.neural_network import MLPRegressor"
   ]
  },
  {
   "cell_type": "markdown",
   "metadata": {},
   "source": [
    "##### Reads database from .xlsx document taken from official web-site of Ukrainian National Bank (https://bank.gov.ua/ua/markets/exchangerate-chart). The file shows the USD exchange rate against the UAH from 01/10/2017 to 07/10/20.<br> Document was preprocessed and modified according to current research needs."
   ]
  },
  {
   "cell_type": "code",
   "execution_count": 2,
   "metadata": {},
   "outputs": [],
   "source": [
    "rates = pandas.read_excel(\"usd_rate.xlsx\")"
   ]
  },
  {
   "cell_type": "code",
   "execution_count": 3,
   "metadata": {},
   "outputs": [
    {
     "data": {
      "text/html": [
       "<div>\n",
       "<style scoped>\n",
       "    .dataframe tbody tr th:only-of-type {\n",
       "        vertical-align: middle;\n",
       "    }\n",
       "\n",
       "    .dataframe tbody tr th {\n",
       "        vertical-align: top;\n",
       "    }\n",
       "\n",
       "    .dataframe thead th {\n",
       "        text-align: right;\n",
       "    }\n",
       "</style>\n",
       "<table border=\"1\" class=\"dataframe\">\n",
       "  <thead>\n",
       "    <tr style=\"text-align: right;\">\n",
       "      <th></th>\n",
       "      <th>nominal</th>\n",
       "      <th>data</th>\n",
       "      <th>rate</th>\n",
       "      <th>cdx</th>\n",
       "    </tr>\n",
       "  </thead>\n",
       "  <tbody>\n",
       "    <tr>\n",
       "      <th>0</th>\n",
       "      <td>1</td>\n",
       "      <td>10.01.2017</td>\n",
       "      <td>27.020929</td>\n",
       "      <td>USD</td>\n",
       "    </tr>\n",
       "    <tr>\n",
       "      <th>1</th>\n",
       "      <td>1</td>\n",
       "      <td>11.01.2017</td>\n",
       "      <td>27.186833</td>\n",
       "      <td>USD</td>\n",
       "    </tr>\n",
       "    <tr>\n",
       "      <th>2</th>\n",
       "      <td>1</td>\n",
       "      <td>12.01.2017</td>\n",
       "      <td>27.113199</td>\n",
       "      <td>USD</td>\n",
       "    </tr>\n",
       "    <tr>\n",
       "      <th>3</th>\n",
       "      <td>1</td>\n",
       "      <td>13.01.2017</td>\n",
       "      <td>27.251629</td>\n",
       "      <td>USD</td>\n",
       "    </tr>\n",
       "    <tr>\n",
       "      <th>4</th>\n",
       "      <td>1</td>\n",
       "      <td>14.01.2017</td>\n",
       "      <td>27.251629</td>\n",
       "      <td>USD</td>\n",
       "    </tr>\n",
       "  </tbody>\n",
       "</table>\n",
       "</div>"
      ],
      "text/plain": [
       "   nominal        data       rate  cdx\n",
       "0        1  10.01.2017  27.020929  USD\n",
       "1        1  11.01.2017  27.186833  USD\n",
       "2        1  12.01.2017  27.113199  USD\n",
       "3        1  13.01.2017  27.251629  USD\n",
       "4        1  14.01.2017  27.251629  USD"
      ]
     },
     "execution_count": 3,
     "metadata": {},
     "output_type": "execute_result"
    }
   ],
   "source": [
    "rates.head()"
   ]
  },
  {
   "cell_type": "markdown",
   "metadata": {},
   "source": [
    "##### Plot shows distribution of nominal values of dollar rate (column: rate)"
   ]
  },
  {
   "cell_type": "code",
   "execution_count": 4,
   "metadata": {},
   "outputs": [
    {
     "data": {
      "text/plain": [
       "<matplotlib.axes._subplots.AxesSubplot at 0x1fae233d508>"
      ]
     },
     "execution_count": 4,
     "metadata": {},
     "output_type": "execute_result"
    },
    {
     "data": {
      "image/png": "[encoded data removed]",
      "text/plain": [
       "<Figure size 432x288 with 1 Axes>"
      ]
     },
     "metadata": {
      "needs_background": "light"
     },
     "output_type": "display_data"
    }
   ],
   "source": [
    "rates.rate.plot()"
   ]
  },
  {
   "cell_type": "markdown",
   "metadata": {},
   "source": [
    "##### Builds model to predict rate for the next n days (n -> variable future) using m last days (m -> variable past)"
   ]
  },
  {
   "cell_type": "code",
   "execution_count": 5,
   "metadata": {},
   "outputs": [],
   "source": [
    "past = 60\n",
    "future = 14"
   ]
  },
  {
   "cell_type": "code",
   "execution_count": 6,
   "metadata": {},
   "outputs": [],
   "source": [
    "# Forms values for creating X and Y prediction sets\n",
    "start = past # last m days\n",
    "end = len(rates.rate) - future # all days except last n"
   ]
  },
  {
   "cell_type": "code",
   "execution_count": 7,
   "metadata": {},
   "outputs": [
    {
     "data": {
      "text/plain": [
       "1204"
      ]
     },
     "execution_count": 7,
     "metadata": {},
     "output_type": "execute_result"
    }
   ],
   "source": [
    "# Length of distribution\n",
    "end-start"
   ]
  },
  {
   "cell_type": "markdown",
   "metadata": {},
   "source": [
    "##### Forms columns for dataframe\n"
   ]
  },
  {
   "cell_type": "code",
   "execution_count": 8,
   "metadata": {
    "scrolled": false
   },
   "outputs": [],
   "source": [
    "dataframe = []\n",
    "for day in range(start, end):\n",
    "    past_data = list(rates.rate[(day-past):day])\n",
    "    future_data = list(rates.rate[day:day+future])\n",
    "    dataframe.append(past_data+future_data)"
   ]
  },
  {
   "cell_type": "code",
   "execution_count": 9,
   "metadata": {},
   "outputs": [],
   "source": [
    "past_columns = []\n",
    "for i in range(past):\n",
    "    past_columns.append(f\"p_{i}\") # p - past"
   ]
  },
  {
   "cell_type": "code",
   "execution_count": 10,
   "metadata": {},
   "outputs": [],
   "source": [
    "future_columns = []\n",
    "for i in range(future):\n",
    "    future_columns.append(f\"f_{i}\") # f - future"
   ]
  },
  {
   "cell_type": "code",
   "execution_count": 11,
   "metadata": {},
   "outputs": [],
   "source": [
    "usd = pandas.DataFrame(dataframe, columns=past_columns+future_columns)"
   ]
  },
  {
   "cell_type": "code",
   "execution_count": 12,
   "metadata": {},
   "outputs": [],
   "source": [
    "X = usd[past_columns] # input data, basis on which model tries to make a prediction\n",
    "Y = usd[future_columns] # output data, which model predcits"
   ]
  },
  {
   "cell_type": "markdown",
   "metadata": {},
   "source": [
    "##### Division on train and test sets "
   ]
  },
  {
   "cell_type": "code",
   "execution_count": 13,
   "metadata": {},
   "outputs": [],
   "source": [
    "X_train = X[:-10] \n",
    "Y_train = Y[:-10] "
   ]
  },
  {
   "cell_type": "code",
   "execution_count": 14,
   "metadata": {},
   "outputs": [],
   "source": [
    "X_test = X[-10:] \n",
    "Y_test = Y[-10:] "
   ]
  },
  {
   "cell_type": "code",
   "execution_count": 15,
   "metadata": {},
   "outputs": [],
   "source": [
    "linreg = RandomForestRegressor() # Creating RandomForestRegressor model"
   ]
  },
  {
   "cell_type": "code",
   "execution_count": 16,
   "metadata": {},
   "outputs": [
    {
     "data": {
      "text/plain": [
       "RandomForestRegressor(bootstrap=True, ccp_alpha=0.0, criterion='mse',\n",
       "                      max_depth=None, max_features='auto', max_leaf_nodes=None,\n",
       "                      max_samples=None, min_impurity_decrease=0.0,\n",
       "                      min_impurity_split=None, min_samples_leaf=1,\n",
       "                      min_samples_split=2, min_weight_fraction_leaf=0.0,\n",
       "                      n_estimators=100, n_jobs=None, oob_score=False,\n",
       "                      random_state=None, verbose=0, warm_start=False)"
      ]
     },
     "execution_count": 16,
     "metadata": {},
     "output_type": "execute_result"
    }
   ],
   "source": [
    "linreg.fit(X_train, Y_train) # fit regressor's parameters for train sets"
   ]
  },
  {
   "cell_type": "code",
   "execution_count": 17,
   "metadata": {},
   "outputs": [
    {
     "data": {
      "text/html": [
       "<div>\n",
       "<style scoped>\n",
       "    .dataframe tbody tr th:only-of-type {\n",
       "        vertical-align: middle;\n",
       "    }\n",
       "\n",
       "    .dataframe tbody tr th {\n",
       "        vertical-align: top;\n",
       "    }\n",
       "\n",
       "    .dataframe thead th {\n",
       "        text-align: right;\n",
       "    }\n",
       "</style>\n",
       "<table border=\"1\" class=\"dataframe\">\n",
       "  <thead>\n",
       "    <tr style=\"text-align: right;\">\n",
       "      <th></th>\n",
       "      <th>p_0</th>\n",
       "      <th>p_1</th>\n",
       "      <th>p_2</th>\n",
       "      <th>p_3</th>\n",
       "      <th>p_4</th>\n",
       "      <th>p_5</th>\n",
       "      <th>p_6</th>\n",
       "      <th>p_7</th>\n",
       "      <th>p_8</th>\n",
       "      <th>p_9</th>\n",
       "      <th>...</th>\n",
       "      <th>p_50</th>\n",
       "      <th>p_51</th>\n",
       "      <th>p_52</th>\n",
       "      <th>p_53</th>\n",
       "      <th>p_54</th>\n",
       "      <th>p_55</th>\n",
       "      <th>p_56</th>\n",
       "      <th>p_57</th>\n",
       "      <th>p_58</th>\n",
       "      <th>p_59</th>\n",
       "    </tr>\n",
       "  </thead>\n",
       "  <tbody>\n",
       "    <tr>\n",
       "      <th>1194</th>\n",
       "      <td>27.2022</td>\n",
       "      <td>27.2022</td>\n",
       "      <td>27.2022</td>\n",
       "      <td>27.0774</td>\n",
       "      <td>27.0815</td>\n",
       "      <td>27.0536</td>\n",
       "      <td>27.0137</td>\n",
       "      <td>27.0137</td>\n",
       "      <td>27.0137</td>\n",
       "      <td>27.1441</td>\n",
       "      <td>...</td>\n",
       "      <td>26.6953</td>\n",
       "      <td>26.6953</td>\n",
       "      <td>26.6005</td>\n",
       "      <td>26.6412</td>\n",
       "      <td>26.6367</td>\n",
       "      <td>26.5999</td>\n",
       "      <td>26.5999</td>\n",
       "      <td>26.5999</td>\n",
       "      <td>26.7303</td>\n",
       "      <td>26.8440</td>\n",
       "    </tr>\n",
       "    <tr>\n",
       "      <th>1195</th>\n",
       "      <td>27.2022</td>\n",
       "      <td>27.2022</td>\n",
       "      <td>27.0774</td>\n",
       "      <td>27.0815</td>\n",
       "      <td>27.0536</td>\n",
       "      <td>27.0137</td>\n",
       "      <td>27.0137</td>\n",
       "      <td>27.0137</td>\n",
       "      <td>27.1441</td>\n",
       "      <td>27.1025</td>\n",
       "      <td>...</td>\n",
       "      <td>26.6953</td>\n",
       "      <td>26.6005</td>\n",
       "      <td>26.6412</td>\n",
       "      <td>26.6367</td>\n",
       "      <td>26.5999</td>\n",
       "      <td>26.5999</td>\n",
       "      <td>26.5999</td>\n",
       "      <td>26.7303</td>\n",
       "      <td>26.8440</td>\n",
       "      <td>26.7424</td>\n",
       "    </tr>\n",
       "    <tr>\n",
       "      <th>1196</th>\n",
       "      <td>27.2022</td>\n",
       "      <td>27.0774</td>\n",
       "      <td>27.0815</td>\n",
       "      <td>27.0536</td>\n",
       "      <td>27.0137</td>\n",
       "      <td>27.0137</td>\n",
       "      <td>27.0137</td>\n",
       "      <td>27.1441</td>\n",
       "      <td>27.1025</td>\n",
       "      <td>27.0485</td>\n",
       "      <td>...</td>\n",
       "      <td>26.6005</td>\n",
       "      <td>26.6412</td>\n",
       "      <td>26.6367</td>\n",
       "      <td>26.5999</td>\n",
       "      <td>26.5999</td>\n",
       "      <td>26.5999</td>\n",
       "      <td>26.7303</td>\n",
       "      <td>26.8440</td>\n",
       "      <td>26.7424</td>\n",
       "      <td>26.7760</td>\n",
       "    </tr>\n",
       "    <tr>\n",
       "      <th>1197</th>\n",
       "      <td>27.0774</td>\n",
       "      <td>27.0815</td>\n",
       "      <td>27.0536</td>\n",
       "      <td>27.0137</td>\n",
       "      <td>27.0137</td>\n",
       "      <td>27.0137</td>\n",
       "      <td>27.1441</td>\n",
       "      <td>27.1025</td>\n",
       "      <td>27.0485</td>\n",
       "      <td>26.9714</td>\n",
       "      <td>...</td>\n",
       "      <td>26.6412</td>\n",
       "      <td>26.6367</td>\n",
       "      <td>26.5999</td>\n",
       "      <td>26.5999</td>\n",
       "      <td>26.5999</td>\n",
       "      <td>26.7303</td>\n",
       "      <td>26.8440</td>\n",
       "      <td>26.7424</td>\n",
       "      <td>26.7760</td>\n",
       "      <td>26.7633</td>\n",
       "    </tr>\n",
       "    <tr>\n",
       "      <th>1198</th>\n",
       "      <td>27.0815</td>\n",
       "      <td>27.0536</td>\n",
       "      <td>27.0137</td>\n",
       "      <td>27.0137</td>\n",
       "      <td>27.0137</td>\n",
       "      <td>27.1441</td>\n",
       "      <td>27.1025</td>\n",
       "      <td>27.0485</td>\n",
       "      <td>26.9714</td>\n",
       "      <td>26.9714</td>\n",
       "      <td>...</td>\n",
       "      <td>26.6367</td>\n",
       "      <td>26.5999</td>\n",
       "      <td>26.5999</td>\n",
       "      <td>26.5999</td>\n",
       "      <td>26.7303</td>\n",
       "      <td>26.8440</td>\n",
       "      <td>26.7424</td>\n",
       "      <td>26.7760</td>\n",
       "      <td>26.7633</td>\n",
       "      <td>26.7633</td>\n",
       "    </tr>\n",
       "    <tr>\n",
       "      <th>1199</th>\n",
       "      <td>27.0536</td>\n",
       "      <td>27.0137</td>\n",
       "      <td>27.0137</td>\n",
       "      <td>27.0137</td>\n",
       "      <td>27.1441</td>\n",
       "      <td>27.1025</td>\n",
       "      <td>27.0485</td>\n",
       "      <td>26.9714</td>\n",
       "      <td>26.9714</td>\n",
       "      <td>26.9714</td>\n",
       "      <td>...</td>\n",
       "      <td>26.5999</td>\n",
       "      <td>26.5999</td>\n",
       "      <td>26.5999</td>\n",
       "      <td>26.7303</td>\n",
       "      <td>26.8440</td>\n",
       "      <td>26.7424</td>\n",
       "      <td>26.7760</td>\n",
       "      <td>26.7633</td>\n",
       "      <td>26.7633</td>\n",
       "      <td>26.7633</td>\n",
       "    </tr>\n",
       "    <tr>\n",
       "      <th>1200</th>\n",
       "      <td>27.0137</td>\n",
       "      <td>27.0137</td>\n",
       "      <td>27.0137</td>\n",
       "      <td>27.1441</td>\n",
       "      <td>27.1025</td>\n",
       "      <td>27.0485</td>\n",
       "      <td>26.9714</td>\n",
       "      <td>26.9714</td>\n",
       "      <td>26.9714</td>\n",
       "      <td>26.9714</td>\n",
       "      <td>...</td>\n",
       "      <td>26.5999</td>\n",
       "      <td>26.5999</td>\n",
       "      <td>26.7303</td>\n",
       "      <td>26.8440</td>\n",
       "      <td>26.7424</td>\n",
       "      <td>26.7760</td>\n",
       "      <td>26.7633</td>\n",
       "      <td>26.7633</td>\n",
       "      <td>26.7633</td>\n",
       "      <td>26.7207</td>\n",
       "    </tr>\n",
       "    <tr>\n",
       "      <th>1201</th>\n",
       "      <td>27.0137</td>\n",
       "      <td>27.0137</td>\n",
       "      <td>27.1441</td>\n",
       "      <td>27.1025</td>\n",
       "      <td>27.0485</td>\n",
       "      <td>26.9714</td>\n",
       "      <td>26.9714</td>\n",
       "      <td>26.9714</td>\n",
       "      <td>26.9714</td>\n",
       "      <td>26.9592</td>\n",
       "      <td>...</td>\n",
       "      <td>26.5999</td>\n",
       "      <td>26.7303</td>\n",
       "      <td>26.8440</td>\n",
       "      <td>26.7424</td>\n",
       "      <td>26.7760</td>\n",
       "      <td>26.7633</td>\n",
       "      <td>26.7633</td>\n",
       "      <td>26.7633</td>\n",
       "      <td>26.7207</td>\n",
       "      <td>26.6695</td>\n",
       "    </tr>\n",
       "    <tr>\n",
       "      <th>1202</th>\n",
       "      <td>27.0137</td>\n",
       "      <td>27.1441</td>\n",
       "      <td>27.1025</td>\n",
       "      <td>27.0485</td>\n",
       "      <td>26.9714</td>\n",
       "      <td>26.9714</td>\n",
       "      <td>26.9714</td>\n",
       "      <td>26.9714</td>\n",
       "      <td>26.9592</td>\n",
       "      <td>26.9749</td>\n",
       "      <td>...</td>\n",
       "      <td>26.7303</td>\n",
       "      <td>26.8440</td>\n",
       "      <td>26.7424</td>\n",
       "      <td>26.7760</td>\n",
       "      <td>26.7633</td>\n",
       "      <td>26.7633</td>\n",
       "      <td>26.7633</td>\n",
       "      <td>26.7207</td>\n",
       "      <td>26.6695</td>\n",
       "      <td>26.6078</td>\n",
       "    </tr>\n",
       "    <tr>\n",
       "      <th>1203</th>\n",
       "      <td>27.1441</td>\n",
       "      <td>27.1025</td>\n",
       "      <td>27.0485</td>\n",
       "      <td>26.9714</td>\n",
       "      <td>26.9714</td>\n",
       "      <td>26.9714</td>\n",
       "      <td>26.9714</td>\n",
       "      <td>26.9592</td>\n",
       "      <td>26.9749</td>\n",
       "      <td>26.9774</td>\n",
       "      <td>...</td>\n",
       "      <td>26.8440</td>\n",
       "      <td>26.7424</td>\n",
       "      <td>26.7760</td>\n",
       "      <td>26.7633</td>\n",
       "      <td>26.7633</td>\n",
       "      <td>26.7633</td>\n",
       "      <td>26.7207</td>\n",
       "      <td>26.6695</td>\n",
       "      <td>26.6078</td>\n",
       "      <td>26.6509</td>\n",
       "    </tr>\n",
       "  </tbody>\n",
       "</table>\n",
       "<p>10 rows × 60 columns</p>\n",
       "</div>"
      ],
      "text/plain": [
       "          p_0      p_1      p_2      p_3      p_4      p_5      p_6      p_7  \\\n",
       "1194  27.2022  27.2022  27.2022  27.0774  27.0815  27.0536  27.0137  27.0137   \n",
       "1195  27.2022  27.2022  27.0774  27.0815  27.0536  27.0137  27.0137  27.0137   \n",
       "1196  27.2022  27.0774  27.0815  27.0536  27.0137  27.0137  27.0137  27.1441   \n",
       "1197  27.0774  27.0815  27.0536  27.0137  27.0137  27.0137  27.1441  27.1025   \n",
       "1198  27.0815  27.0536  27.0137  27.0137  27.0137  27.1441  27.1025  27.0485   \n",
       "1199  27.0536  27.0137  27.0137  27.0137  27.1441  27.1025  27.0485  26.9714   \n",
       "1200  27.0137  27.0137  27.0137  27.1441  27.1025  27.0485  26.9714  26.9714   \n",
       "1201  27.0137  27.0137  27.1441  27.1025  27.0485  26.9714  26.9714  26.9714   \n",
       "1202  27.0137  27.1441  27.1025  27.0485  26.9714  26.9714  26.9714  26.9714   \n",
       "1203  27.1441  27.1025  27.0485  26.9714  26.9714  26.9714  26.9714  26.9592   \n",
       "\n",
       "          p_8      p_9  ...     p_50     p_51     p_52     p_53     p_54  \\\n",
       "1194  27.0137  27.1441  ...  26.6953  26.6953  26.6005  26.6412  26.6367   \n",
       "1195  27.1441  27.1025  ...  26.6953  26.6005  26.6412  26.6367  26.5999   \n",
       "1196  27.1025  27.0485  ...  26.6005  26.6412  26.6367  26.5999  26.5999   \n",
       "1197  27.0485  26.9714  ...  26.6412  26.6367  26.5999  26.5999  26.5999   \n",
       "1198  26.9714  26.9714  ...  26.6367  26.5999  26.5999  26.5999  26.7303   \n",
       "1199  26.9714  26.9714  ...  26.5999  26.5999  26.5999  26.7303  26.8440   \n",
       "1200  26.9714  26.9714  ...  26.5999  26.5999  26.7303  26.8440  26.7424   \n",
       "1201  26.9714  26.9592  ...  26.5999  26.7303  26.8440  26.7424  26.7760   \n",
       "1202  26.9592  26.9749  ...  26.7303  26.8440  26.7424  26.7760  26.7633   \n",
       "1203  26.9749  26.9774  ...  26.8440  26.7424  26.7760  26.7633  26.7633   \n",
       "\n",
       "         p_55     p_56     p_57     p_58     p_59  \n",
       "1194  26.5999  26.5999  26.5999  26.7303  26.8440  \n",
       "1195  26.5999  26.5999  26.7303  26.8440  26.7424  \n",
       "1196  26.5999  26.7303  26.8440  26.7424  26.7760  \n",
       "1197  26.7303  26.8440  26.7424  26.7760  26.7633  \n",
       "1198  26.8440  26.7424  26.7760  26.7633  26.7633  \n",
       "1199  26.7424  26.7760  26.7633  26.7633  26.7633  \n",
       "1200  26.7760  26.7633  26.7633  26.7633  26.7207  \n",
       "1201  26.7633  26.7633  26.7633  26.7207  26.6695  \n",
       "1202  26.7633  26.7633  26.7207  26.6695  26.6078  \n",
       "1203  26.7633  26.7207  26.6695  26.6078  26.6509  \n",
       "\n",
       "[10 rows x 60 columns]"
      ]
     },
     "execution_count": 17,
     "metadata": {},
     "output_type": "execute_result"
    }
   ],
   "source": [
    "X_test"
   ]
  },
  {
   "cell_type": "markdown",
   "metadata": {},
   "source": [
    "## RandomForestRegressor based prediction "
   ]
  },
  {
   "cell_type": "markdown",
   "metadata": {},
   "source": [
    "##### Select one row for RandomForestRegressor and make prediction on it to count absolute error"
   ]
  },
  {
   "cell_type": "code",
   "execution_count": 18,
   "metadata": {},
   "outputs": [],
   "source": [
    "firstDay = X_test.head(1)"
   ]
  },
  {
   "cell_type": "code",
   "execution_count": 19,
   "metadata": {},
   "outputs": [],
   "source": [
    "firstDayReal = Y_test.head(1)"
   ]
  },
  {
   "cell_type": "code",
   "execution_count": 20,
   "metadata": {},
   "outputs": [
    {
     "data": {
      "text/html": [
       "<div>\n",
       "<style scoped>\n",
       "    .dataframe tbody tr th:only-of-type {\n",
       "        vertical-align: middle;\n",
       "    }\n",
       "\n",
       "    .dataframe tbody tr th {\n",
       "        vertical-align: top;\n",
       "    }\n",
       "\n",
       "    .dataframe thead th {\n",
       "        text-align: right;\n",
       "    }\n",
       "</style>\n",
       "<table border=\"1\" class=\"dataframe\">\n",
       "  <thead>\n",
       "    <tr style=\"text-align: right;\">\n",
       "      <th></th>\n",
       "      <th>p_0</th>\n",
       "      <th>p_1</th>\n",
       "      <th>p_2</th>\n",
       "      <th>p_3</th>\n",
       "      <th>p_4</th>\n",
       "      <th>p_5</th>\n",
       "      <th>p_6</th>\n",
       "      <th>p_7</th>\n",
       "      <th>p_8</th>\n",
       "      <th>p_9</th>\n",
       "      <th>...</th>\n",
       "      <th>p_50</th>\n",
       "      <th>p_51</th>\n",
       "      <th>p_52</th>\n",
       "      <th>p_53</th>\n",
       "      <th>p_54</th>\n",
       "      <th>p_55</th>\n",
       "      <th>p_56</th>\n",
       "      <th>p_57</th>\n",
       "      <th>p_58</th>\n",
       "      <th>p_59</th>\n",
       "    </tr>\n",
       "  </thead>\n",
       "  <tbody>\n",
       "    <tr>\n",
       "      <th>1194</th>\n",
       "      <td>27.2022</td>\n",
       "      <td>27.2022</td>\n",
       "      <td>27.2022</td>\n",
       "      <td>27.0774</td>\n",
       "      <td>27.0815</td>\n",
       "      <td>27.0536</td>\n",
       "      <td>27.0137</td>\n",
       "      <td>27.0137</td>\n",
       "      <td>27.0137</td>\n",
       "      <td>27.1441</td>\n",
       "      <td>...</td>\n",
       "      <td>26.6953</td>\n",
       "      <td>26.6953</td>\n",
       "      <td>26.6005</td>\n",
       "      <td>26.6412</td>\n",
       "      <td>26.6367</td>\n",
       "      <td>26.5999</td>\n",
       "      <td>26.5999</td>\n",
       "      <td>26.5999</td>\n",
       "      <td>26.7303</td>\n",
       "      <td>26.844</td>\n",
       "    </tr>\n",
       "  </tbody>\n",
       "</table>\n",
       "<p>1 rows × 60 columns</p>\n",
       "</div>"
      ],
      "text/plain": [
       "          p_0      p_1      p_2      p_3      p_4      p_5      p_6      p_7  \\\n",
       "1194  27.2022  27.2022  27.2022  27.0774  27.0815  27.0536  27.0137  27.0137   \n",
       "\n",
       "          p_8      p_9  ...     p_50     p_51     p_52     p_53     p_54  \\\n",
       "1194  27.0137  27.1441  ...  26.6953  26.6953  26.6005  26.6412  26.6367   \n",
       "\n",
       "         p_55     p_56     p_57     p_58    p_59  \n",
       "1194  26.5999  26.5999  26.5999  26.7303  26.844  \n",
       "\n",
       "[1 rows x 60 columns]"
      ]
     },
     "execution_count": 20,
     "metadata": {},
     "output_type": "execute_result"
    }
   ],
   "source": [
    "firstDay"
   ]
  },
  {
   "cell_type": "code",
   "execution_count": 21,
   "metadata": {},
   "outputs": [],
   "source": [
    "prediction = linreg.predict(firstDay)"
   ]
  },
  {
   "cell_type": "code",
   "execution_count": 22,
   "metadata": {},
   "outputs": [
    {
     "data": {
      "text/plain": [
       "array([[26.7804346 , 26.77879092, 26.78662134, 26.79251397, 26.80070681,\n",
       "        26.79272647, 26.78346273, 26.76927726, 26.74447477, 26.73203368,\n",
       "        26.70837129, 26.69843088, 26.68991801, 26.68938938]])"
      ]
     },
     "execution_count": 22,
     "metadata": {},
     "output_type": "execute_result"
    }
   ],
   "source": [
    "prediction"
   ]
  },
  {
   "cell_type": "code",
   "execution_count": 23,
   "metadata": {},
   "outputs": [
    {
     "data": {
      "text/html": [
       "<div>\n",
       "<style scoped>\n",
       "    .dataframe tbody tr th:only-of-type {\n",
       "        vertical-align: middle;\n",
       "    }\n",
       "\n",
       "    .dataframe tbody tr th {\n",
       "        vertical-align: top;\n",
       "    }\n",
       "\n",
       "    .dataframe thead th {\n",
       "        text-align: right;\n",
       "    }\n",
       "</style>\n",
       "<table border=\"1\" class=\"dataframe\">\n",
       "  <thead>\n",
       "    <tr style=\"text-align: right;\">\n",
       "      <th></th>\n",
       "      <th>f_0</th>\n",
       "      <th>f_1</th>\n",
       "      <th>f_2</th>\n",
       "      <th>f_3</th>\n",
       "      <th>f_4</th>\n",
       "      <th>f_5</th>\n",
       "      <th>f_6</th>\n",
       "      <th>f_7</th>\n",
       "      <th>f_8</th>\n",
       "      <th>f_9</th>\n",
       "      <th>f_10</th>\n",
       "      <th>f_11</th>\n",
       "      <th>f_12</th>\n",
       "      <th>f_13</th>\n",
       "    </tr>\n",
       "  </thead>\n",
       "  <tbody>\n",
       "    <tr>\n",
       "      <th>1194</th>\n",
       "      <td>26.7424</td>\n",
       "      <td>26.776</td>\n",
       "      <td>26.7633</td>\n",
       "      <td>26.7633</td>\n",
       "      <td>26.7633</td>\n",
       "      <td>26.7207</td>\n",
       "      <td>26.6695</td>\n",
       "      <td>26.6078</td>\n",
       "      <td>26.6509</td>\n",
       "      <td>26.7002</td>\n",
       "      <td>26.7002</td>\n",
       "      <td>26.7002</td>\n",
       "      <td>26.7002</td>\n",
       "      <td>26.6922</td>\n",
       "    </tr>\n",
       "  </tbody>\n",
       "</table>\n",
       "</div>"
      ],
      "text/plain": [
       "          f_0     f_1      f_2      f_3      f_4      f_5      f_6      f_7  \\\n",
       "1194  26.7424  26.776  26.7633  26.7633  26.7633  26.7207  26.6695  26.6078   \n",
       "\n",
       "          f_8      f_9     f_10     f_11     f_12     f_13  \n",
       "1194  26.6509  26.7002  26.7002  26.7002  26.7002  26.6922  "
      ]
     },
     "execution_count": 23,
     "metadata": {},
     "output_type": "execute_result"
    }
   ],
   "source": [
    "firstDayReal"
   ]
  },
  {
   "cell_type": "markdown",
   "metadata": {},
   "source": [
    "##### Mean absolute error value for RFR model"
   ]
  },
  {
   "cell_type": "code",
   "execution_count": 24,
   "metadata": {},
   "outputs": [
    {
     "data": {
      "text/plain": [
       "0.044762540714291026"
      ]
     },
     "execution_count": 24,
     "metadata": {},
     "output_type": "execute_result"
    }
   ],
   "source": [
    "mean_absolute_error(prediction[0], firstDayReal.iloc[0])"
   ]
  },
  {
   "cell_type": "markdown",
   "metadata": {},
   "source": [
    "##### Dependence plot of predicted and real values"
   ]
  },
  {
   "cell_type": "code",
   "execution_count": 25,
   "metadata": {},
   "outputs": [
    {
     "data": {
      "text/plain": [
       "<matplotlib.legend.Legend at 0x1fae4e03708>"
      ]
     },
     "execution_count": 25,
     "metadata": {},
     "output_type": "execute_result"
    },
    {
     "data": {
      "image/png": "[encoded data removed]",
      "text/plain": [
       "<Figure size 432x288 with 1 Axes>"
      ]
     },
     "metadata": {
      "needs_background": "light"
     },
     "output_type": "display_data"
    }
   ],
   "source": [
    "plt.plot(prediction[0], label=\"Prediction\")\n",
    "plt.plot(firstDayReal.iloc[0], label=\"Real\")\n",
    "plt.legend()"
   ]
  },
  {
   "cell_type": "code",
   "execution_count": 26,
   "metadata": {},
   "outputs": [
    {
     "name": "stdout",
     "output_type": "stream",
     "text": [
      "MAE = 0.04245508499999876\n"
     ]
    },
    {
     "data": {
      "text/plain": [
       "<matplotlib.legend.Legend at 0x1fae4e6ac08>"
      ]
     },
     "execution_count": 26,
     "metadata": {},
     "output_type": "execute_result"
    },
    {
     "data": {
      "image/png": "[encoded data removed]",
      "text/plain": [
       "<Figure size 432x288 with 1 Axes>"
      ]
     },
     "metadata": {
      "needs_background": "light"
     },
     "output_type": "display_data"
    }
   ],
   "source": [
    "# Changes prediction set to build a model with different parameters\n",
    "prediction = linreg.predict([X_test.iloc[1]])\n",
    "real = Y_test.iloc[1]\n",
    "mae = mean_absolute_error(prediction[0], real)\n",
    "print(f\"MAE = {mae}\")\n",
    "plt.plot(prediction[0], label=\"Prediction\")\n",
    "plt.plot(real, label=\"Real\")\n",
    "plt.legend()"
   ]
  },
  {
   "cell_type": "markdown",
   "metadata": {},
   "source": [
    "## KNeighborsRegressor based prediction \n",
    "##### Do the same list of steps as for RFR"
   ]
  },
  {
   "cell_type": "code",
   "execution_count": 27,
   "metadata": {},
   "outputs": [
    {
     "data": {
      "text/plain": [
       "KNeighborsRegressor(algorithm='auto', leaf_size=30, metric='minkowski',\n",
       "                    metric_params=None, n_jobs=None, n_neighbors=2, p=2,\n",
       "                    weights='uniform')"
      ]
     },
     "execution_count": 27,
     "metadata": {},
     "output_type": "execute_result"
    }
   ],
   "source": [
    "knn = KNeighborsRegressor(n_neighbors=2)\n",
    "knn.fit(X_train, Y_train)"
   ]
  },
  {
   "cell_type": "code",
   "execution_count": 28,
   "metadata": {},
   "outputs": [
    {
     "name": "stdout",
     "output_type": "stream",
     "text": [
      "MAE = 0.02789642857142814\n"
     ]
    },
    {
     "data": {
      "text/plain": [
       "<matplotlib.legend.Legend at 0x1fae2acf9c8>"
      ]
     },
     "execution_count": 28,
     "metadata": {},
     "output_type": "execute_result"
    },
    {
     "data": {
      "image/png": "[encoded data removed]",
      "text/plain": [
       "<Figure size 432x288 with 1 Axes>"
      ]
     },
     "metadata": {
      "needs_background": "light"
     },
     "output_type": "display_data"
    }
   ],
   "source": [
    "prediction = knn.predict([X_test.iloc[0]])\n",
    "real = Y_test.iloc[0]\n",
    "mae = mean_absolute_error(prediction[0], real)\n",
    "print(f\"MAE = {mae}\")\n",
    "plt.plot(prediction[0], label=\"Prediction\")\n",
    "plt.plot(real, label=\"Real\")\n",
    "plt.legend()"
   ]
  },
  {
   "cell_type": "markdown",
   "metadata": {},
   "source": [
    "## MLPRegressor based prediction \n",
    "##### Do the same list of steps as for RFR"
   ]
  },
  {
   "cell_type": "code",
   "execution_count": 29,
   "metadata": {},
   "outputs": [],
   "source": [
    "mlp = MLPRegressor(max_iter=1000, hidden_layer_sizes=(100,100,100), random_state=42)"
   ]
  },
  {
   "cell_type": "code",
   "execution_count": 30,
   "metadata": {},
   "outputs": [
    {
     "data": {
      "text/plain": [
       "MLPRegressor(activation='relu', alpha=0.0001, batch_size='auto', beta_1=0.9,\n",
       "             beta_2=0.999, early_stopping=False, epsilon=1e-08,\n",
       "             hidden_layer_sizes=(100, 100, 100), learning_rate='constant',\n",
       "             learning_rate_init=0.001, max_fun=15000, max_iter=1000,\n",
       "             momentum=0.9, n_iter_no_change=10, nesterovs_momentum=True,\n",
       "             power_t=0.5, random_state=42, shuffle=True, solver='adam',\n",
       "             tol=0.0001, validation_fraction=0.1, verbose=False,\n",
       "             warm_start=False)"
      ]
     },
     "execution_count": 30,
     "metadata": {},
     "output_type": "execute_result"
    }
   ],
   "source": [
    "mlp.fit(X_train, Y_train)"
   ]
  },
  {
   "cell_type": "code",
   "execution_count": 31,
   "metadata": {
    "scrolled": false
   },
   "outputs": [
    {
     "name": "stdout",
     "output_type": "stream",
     "text": [
      "MAE = 0.05337859773195649\n"
     ]
    },
    {
     "data": {
      "text/plain": [
       "<matplotlib.legend.Legend at 0x1fae583d9c8>"
      ]
     },
     "execution_count": 31,
     "metadata": {},
     "output_type": "execute_result"
    },
    {
     "data": {
      "image/png": "[encoded data removed]",
      "text/plain": [
       "<Figure size 432x288 with 1 Axes>"
      ]
     },
     "metadata": {
      "needs_background": "light"
     },
     "output_type": "display_data"
    }
   ],
   "source": [
    "prediction = mlp.predict([X_test.iloc[0]])\n",
    "real = Y_test.iloc[0]\n",
    "mae = mean_absolute_error(prediction[0], real)\n",
    "print(f\"MAE = {mae}\")\n",
    "plt.plot(prediction[0], label=\"Prediction\")\n",
    "plt.plot(real, label=\"Real\")\n",
    "plt.legend()"
   ]
  }
 ],
 "metadata": {
  "kernelspec": {
   "display_name": "Python 3",
   "language": "python",
   "name": "python3"
  },
  "language_info": {
   "codemirror_mode": {
    "name": "ipython",
    "version": 3
   },
   "file_extension": ".py",
   "mimetype": "text/x-python",
   "name": "python",
   "nbconvert_exporter": "python",
   "pygments_lexer": "ipython3",
   "version": "3.7.6"
  }
 },
 "nbformat": 4,
 "nbformat_minor": 2
}
